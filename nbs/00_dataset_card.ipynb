{
 "cells": [
  {
   "attachments": {},
   "cell_type": "markdown",
   "metadata": {},
   "source": [
    "# MMS Dataset Card\n",
    "\n",
    "> Dataset Card for https://huggingface.co/datasets/Brand24/mms\n",
    "\n",
    "- title-block-banner: true\n",
    "- bibliography: references.bib\n"
   ]
  },
  {
   "attachments": {},
   "cell_type": "markdown",
   "metadata": {},
   "source": [
    "## Easiness of using"
   ]
  },
  {
   "attachments": {},
   "cell_type": "markdown",
   "metadata": {},
   "source": [
    "One of the key ideas behind creating our library of datasets was to prioritize ease of use for researchers. Recognizing the importance of accessibility and convenience, we chose the HuggingFace platform as the storage and distribution platform for the datasets. HuggingFace provides a user-friendly interface and a wide range of tools and resources, making it easy for researchers to access and utilize the datasets.\n",
    "\n",
    "To further enhance usability, we took the initiative to gather all the necessary citations for the datasets included in our library. By unifying the citations, we aimed to simplify and expedite the process of generating citations for researchers who utilize our datasets. This step reduces the time and effort required for researchers to acknowledge the datasets' sources properly.\n",
    "\n",
    "However, it is essential to note that while we have taken steps to streamline the citation process, researchers should still independently verify the licenses of the datasets, especially if they intend to use them for purposes beyond strict academic research. Ensuring compliance with licensing requirements is crucial to maintaining ethical and legal data use standards.\n",
    "\n",
    "Overall, our overarching goal in creating this unified corpus of datasets is accelerating academic sentiment analysis research. By providing a comprehensive collection of high-quality datasets and facilitating their accessibility, we aim to support researchers in exploring and advancing sentiment analysis techniques and methodologies."
   ]
  },
  {
   "attachments": {},
   "cell_type": "markdown",
   "metadata": {},
   "source": [
    "### Data ready to slice and dice and train a model"
   ]
  },
  {
   "attachments": {},
   "cell_type": "markdown",
   "metadata": {},
   "source": [
    "Our dataset is designed to be versatile and allows researchers to slice and dice the data for training and modeling according to their specific needs. Drawing from the field of linguistic typology, which examines the characteristics of languages, we have incorporated various linguistic features into our dataset selection process. These features include the text itself, sentiment labels, the original dataset source, domain, language, language family, genus, the presence or absence of definite and indefinite articles, the number of cases, word order, negative morphemes, polar questions, the position of negative morphemes, prefixing vs. suffixing, coding of nominal plurals, and grammatical genders. Researchers can easily access datasets that match their desired linguistic typology criteria by offering these features as filtering options in our library. \n",
    "\n",
    "For instance, researchers can download datasets specific to Slavic languages with interrogative word order for polar questions or datasets from the Afro-Asiatic language family without morphological case-making. This flexibility empowers researchers to tailor their analyses and models to their linguistic interests and research questions.\n",
    "\n",
    "More use cases in the next page."
   ]
  },
  {
   "cell_type": "code",
   "execution_count": null,
   "metadata": {},
   "outputs": [
    {
     "name": "stderr",
     "output_type": "stream",
     "text": [
      "Found cached dataset mms (/root/.cache/huggingface/datasets/Brand24___mms/default/0.0.0/16c5204229c16d6de713010e6933dd69a5611d13c81e004791b27f5fe83536b0)\n"
     ]
    },
    {
     "data": {
      "application/vnd.jupyter.widget-view+json": {
       "model_id": "b3d218b9179d4e309592df71093c6dcf",
       "version_major": 2,
       "version_minor": 0
      },
      "text/plain": [
       "  0%|          | 0/1 [00:00<?, ?it/s]"
      ]
     },
     "metadata": {},
     "output_type": "display_data"
    }
   ],
   "source": [
    "#| eval: false\n",
    "import datasets\n",
    "\n",
    "mms_dataset = datasets.load_dataset(\"Brand24/mms\")\n",
    "mms_dataset_df = mms_dataset[\"train\"].to_pandas()"
   ]
  },
  {
   "attachments": {},
   "cell_type": "markdown",
   "metadata": {},
   "source": [
    "All features in dataset"
   ]
  },
  {
   "cell_type": "code",
   "execution_count": null,
   "metadata": {},
   "outputs": [
    {
     "data": {
      "text/html": [
       "<div>\n",
       "<style scoped>\n",
       "    .dataframe tbody tr th:only-of-type {\n",
       "        vertical-align: middle;\n",
       "    }\n",
       "\n",
       "    .dataframe tbody tr th {\n",
       "        vertical-align: top;\n",
       "    }\n",
       "\n",
       "    .dataframe thead th {\n",
       "        text-align: right;\n",
       "    }\n",
       "</style>\n",
       "<table border=\"1\" class=\"dataframe\">\n",
       "  <thead>\n",
       "    <tr style=\"text-align: right;\">\n",
       "      <th></th>\n",
       "      <th>_id</th>\n",
       "      <th>text</th>\n",
       "      <th>label</th>\n",
       "      <th>original_dataset</th>\n",
       "      <th>domain</th>\n",
       "      <th>language</th>\n",
       "      <th>Family</th>\n",
       "      <th>Genus</th>\n",
       "      <th>Definite articles</th>\n",
       "      <th>Indefinite articles</th>\n",
       "      <th>Number of cases</th>\n",
       "      <th>Order of subject, object, verb</th>\n",
       "      <th>Negative morphemes</th>\n",
       "      <th>Polar questions</th>\n",
       "      <th>Position of negative word wrt SOV</th>\n",
       "      <th>Prefixing vs suffixing</th>\n",
       "      <th>Coding of nominal plurality</th>\n",
       "      <th>Grammatical genders</th>\n",
       "      <th>cleanlab_self_confidence</th>\n",
       "      <th>label_name</th>\n",
       "    </tr>\n",
       "  </thead>\n",
       "  <tbody>\n",
       "    <tr>\n",
       "      <th>4885253</th>\n",
       "      <td>4885253</td>\n",
       "      <td>遅いレビューですが、他の方の同様な状況を見かけたので投稿しました。 購入してしばらくすると移...</td>\n",
       "      <td>0</td>\n",
       "      <td>ja_multilan_amazon</td>\n",
       "      <td>reviews</td>\n",
       "      <td>ja</td>\n",
       "      <td>Japanese</td>\n",
       "      <td>Japanese</td>\n",
       "      <td>no article</td>\n",
       "      <td>indefinite word distinct from one</td>\n",
       "      <td>8-9</td>\n",
       "      <td>SOV</td>\n",
       "      <td>negative affix</td>\n",
       "      <td>question particle</td>\n",
       "      <td>MorphNeg</td>\n",
       "      <td>strongly suffixing</td>\n",
       "      <td>plural suffix</td>\n",
       "      <td>no grammatical gender</td>\n",
       "      <td>0.396200</td>\n",
       "      <td>negative</td>\n",
       "    </tr>\n",
       "    <tr>\n",
       "      <th>5370394</th>\n",
       "      <td>5370394</td>\n",
       "      <td>Дети в школу собирались: мылись... брились... ...</td>\n",
       "      <td>1</td>\n",
       "      <td>ru_twitter_sentiment</td>\n",
       "      <td>social_media</td>\n",
       "      <td>ru</td>\n",
       "      <td>Indo-European</td>\n",
       "      <td>Slavic</td>\n",
       "      <td>no article</td>\n",
       "      <td>no article</td>\n",
       "      <td>6-7</td>\n",
       "      <td>SVO</td>\n",
       "      <td>negative particle</td>\n",
       "      <td>question particle</td>\n",
       "      <td>SNegVO</td>\n",
       "      <td>strongly suffixing</td>\n",
       "      <td>plural suffix</td>\n",
       "      <td>masculine, feminine, neuter</td>\n",
       "      <td>0.307180</td>\n",
       "      <td>neutral</td>\n",
       "    </tr>\n",
       "    <tr>\n",
       "      <th>3711934</th>\n",
       "      <td>3711934</td>\n",
       "      <td>Would you LIKE to see cornerback Champ Bailey ...</td>\n",
       "      <td>1</td>\n",
       "      <td>en_semeval_2017</td>\n",
       "      <td>mixed</td>\n",
       "      <td>en</td>\n",
       "      <td>Indo-European</td>\n",
       "      <td>Germanic</td>\n",
       "      <td>definite word distinct from demonstrative</td>\n",
       "      <td>indefinite word distinct from one</td>\n",
       "      <td>2</td>\n",
       "      <td>SVO</td>\n",
       "      <td>negative particle</td>\n",
       "      <td>interrogative word order</td>\n",
       "      <td>SNegVO</td>\n",
       "      <td>strongly suffixing</td>\n",
       "      <td>plural suffix</td>\n",
       "      <td>no grammatical gender</td>\n",
       "      <td>0.768998</td>\n",
       "      <td>neutral</td>\n",
       "    </tr>\n",
       "    <tr>\n",
       "      <th>5635649</th>\n",
       "      <td>5635649</td>\n",
       "      <td>@GeekHotness @uroshdemz moi???I pray not to! #...</td>\n",
       "      <td>1</td>\n",
       "      <td>sr_twitter_sentiment</td>\n",
       "      <td>social_media</td>\n",
       "      <td>sr</td>\n",
       "      <td>Indo-European</td>\n",
       "      <td>Slavic</td>\n",
       "      <td>no article</td>\n",
       "      <td>no article</td>\n",
       "      <td>5</td>\n",
       "      <td>SVO</td>\n",
       "      <td>negative particle</td>\n",
       "      <td>question particle</td>\n",
       "      <td>other</td>\n",
       "      <td>strongly suffixing</td>\n",
       "      <td>plural suffix</td>\n",
       "      <td>masculine, feminine, neuter</td>\n",
       "      <td>0.623751</td>\n",
       "      <td>neutral</td>\n",
       "    </tr>\n",
       "    <tr>\n",
       "      <th>1448834</th>\n",
       "      <td>1448834</td>\n",
       "      <td>Manche Menschen sehen ohne Schminke echt komis...</td>\n",
       "      <td>0</td>\n",
       "      <td>de_sb10k</td>\n",
       "      <td>social_media</td>\n",
       "      <td>de</td>\n",
       "      <td>Indo-European</td>\n",
       "      <td>Germanic</td>\n",
       "      <td>definite word distinct from demonstrative</td>\n",
       "      <td>indefinite word same as one</td>\n",
       "      <td>4</td>\n",
       "      <td>no dominant order</td>\n",
       "      <td>negative particle</td>\n",
       "      <td>interrogative word order</td>\n",
       "      <td>more than one position</td>\n",
       "      <td>strongly suffixing</td>\n",
       "      <td>plural suffix</td>\n",
       "      <td>masculine, feminine, neuter</td>\n",
       "      <td>0.674396</td>\n",
       "      <td>negative</td>\n",
       "    </tr>\n",
       "  </tbody>\n",
       "</table>\n",
       "</div>"
      ],
      "text/plain": [
       "             _id                                               text  label  \\\n",
       "4885253  4885253  遅いレビューですが、他の方の同様な状況を見かけたので投稿しました。 購入してしばらくすると移...      0   \n",
       "5370394  5370394  Дети в школу собирались: мылись... брились... ...      1   \n",
       "3711934  3711934  Would you LIKE to see cornerback Champ Bailey ...      1   \n",
       "5635649  5635649  @GeekHotness @uroshdemz moi???I pray not to! #...      1   \n",
       "1448834  1448834  Manche Menschen sehen ohne Schminke echt komis...      0   \n",
       "\n",
       "             original_dataset        domain language         Family     Genus  \\\n",
       "4885253    ja_multilan_amazon       reviews       ja       Japanese  Japanese   \n",
       "5370394  ru_twitter_sentiment  social_media       ru  Indo-European    Slavic   \n",
       "3711934       en_semeval_2017         mixed       en  Indo-European  Germanic   \n",
       "5635649  sr_twitter_sentiment  social_media       sr  Indo-European    Slavic   \n",
       "1448834              de_sb10k  social_media       de  Indo-European  Germanic   \n",
       "\n",
       "                                 Definite articles  \\\n",
       "4885253                                 no article   \n",
       "5370394                                 no article   \n",
       "3711934  definite word distinct from demonstrative   \n",
       "5635649                                 no article   \n",
       "1448834  definite word distinct from demonstrative   \n",
       "\n",
       "                       Indefinite articles Number of cases  \\\n",
       "4885253  indefinite word distinct from one             8-9   \n",
       "5370394                         no article             6-7   \n",
       "3711934  indefinite word distinct from one               2   \n",
       "5635649                         no article               5   \n",
       "1448834        indefinite word same as one               4   \n",
       "\n",
       "        Order of subject, object, verb Negative morphemes  \\\n",
       "4885253                            SOV     negative affix   \n",
       "5370394                            SVO  negative particle   \n",
       "3711934                            SVO  negative particle   \n",
       "5635649                            SVO  negative particle   \n",
       "1448834              no dominant order  negative particle   \n",
       "\n",
       "                  Polar questions Position of negative word wrt SOV  \\\n",
       "4885253         question particle                          MorphNeg   \n",
       "5370394         question particle                            SNegVO   \n",
       "3711934  interrogative word order                            SNegVO   \n",
       "5635649         question particle                             other   \n",
       "1448834  interrogative word order            more than one position   \n",
       "\n",
       "        Prefixing vs suffixing Coding of nominal plurality  \\\n",
       "4885253     strongly suffixing               plural suffix   \n",
       "5370394     strongly suffixing               plural suffix   \n",
       "3711934     strongly suffixing               plural suffix   \n",
       "5635649     strongly suffixing               plural suffix   \n",
       "1448834     strongly suffixing               plural suffix   \n",
       "\n",
       "                 Grammatical genders  cleanlab_self_confidence label_name  \n",
       "4885253        no grammatical gender                  0.396200   negative  \n",
       "5370394  masculine, feminine, neuter                  0.307180    neutral  \n",
       "3711934        no grammatical gender                  0.768998    neutral  \n",
       "5635649  masculine, feminine, neuter                  0.623751    neutral  \n",
       "1448834  masculine, feminine, neuter                  0.674396   negative  "
      ]
     },
     "execution_count": null,
     "metadata": {},
     "output_type": "execute_result"
    }
   ],
   "source": [
    "#| eval: false\n",
    "mms_dataset_df.sample(5)"
   ]
  },
  {
   "attachments": {},
   "cell_type": "markdown",
   "metadata": {},
   "source": [
    "### Linguistic Typology\n",
    "\n",
    "The field of language typology focuses on studying the similarities and differences among languages. These differences can be categorized into phonological (sounds), syntactic (structures), lexical (vocabulary), and theoretical aspects. Linguistic typology analyzes the current state of languages, contrasting with genealogical linguistics, which examines historical relationships between languages.\n",
    "\n",
    "Genealogical linguistics studies language families and genera. A language family consists of languages that share a common ancestral language, while genera are branches within a language family. The Indo-European family, for example, includes genera such as Slavic, Romance, Germanic, and Indic. Over 7000 languages are categorized into approximately 150 language families, with Indo-European, Sino-Tibetan, Turkic, Afro-Asiatic, Nilo-Saharan, Niger-Congo, and Eskimo-Aleut being some of the largest families.\n",
    "\n",
    "Within linguistic typology, languages are described using various linguistic features. Our work focuses on sentiment classification and selects ten relevant features:\n",
    "\n",
    "-  `text`: The feature text represents the actual text of the sentiment dataset. It is of type string and contains the text samples or sentences for sentiment analysis.\n",
    "- `label`: The feature label corresponds to the sentiment labels of the text samples. It is of type ClassLabel and has three possible values: negative, neutral, and positive. These labels indicate the sentiment or emotional polarity associated with the text.\n",
    "- `original_dataset`: The feature original_dataset refers to the name or identifier of the original dataset from which the text samples were extracted. It is of type string and provides information about the source dataset.\n",
    "- `domain`: The feature domain represents the domain or topic of the sentiment dataset. It is of type string and provides context regarding the subject matter of the text samples.\n",
    "- `language`: The feature language indicates the language of the text samples in the sentiment dataset. It is of type string and specifies the language in which the text is written.\n",
    "- `Family`: The feature Family represents the language family to which a specific language belongs. It is of type string and provides information about the broader categorization of languages into language families.\n",
    "- `Genus`: The feature Genus corresponds to the genus or branch within a language family. It is of type string and indicates the specific subgrouping of languages within a language family.\n",
    "- `Definite article`: Half of the languages do not use the definite article, which signals uniqueness or definiteness of a concept.\n",
    "- `Indefinite article`: Half of the languages do not use the indefinite article, with some languages using a separate article or the numeral \"one.\"\n",
    "- `Number of cases`: Languages vary greatly in the number of morphological cases used.\n",
    "- `Order of subject, verb, and object`: Different languages have different word orderings, with variations like SOV, SVO, VSO, VOS, OVS, and OSV.\n",
    "- `Negative morphemes`: Negative morphemes indicate clausal negation in declarative sentences.\n",
    "- `Polar questions`: Questions with yes/no answers, which can be formed using question particles, interrogative morphology, or intonation.\n",
    "- `Position of the negative morpheme`: The position of the negative morpheme can vary in relation to subjects and objects.\n",
    "- `Prefixing vs. suffixing`: Languages differ in their use of prefixes and suffixes in inflectional morphology.\n",
    "- `Coding of nominal plurals`: Plurals can be expressed through morphological changes or the use of plurality indicator morphemes.\n",
    "- `Grammatical genders`: Languages vary in the number of grammatical genders used, or may not use the concept at all.\n",
    "\n",
    "These language features are available as filtering options in our library. Users can download specific facets of the collection, such as datasets in Slavic languages with interrogative word order for polar questions or datasets from the Afro-Asiatic language family without morphological case-making."
   ]
  },
  {
   "attachments": {},
   "cell_type": "markdown",
   "metadata": {},
   "source": [
    "## Datasheets for Datasets \n",
    "\n",
    "The datasheets provide detailed information about the datasets, including data collection methods, annotation guidelines, and potential biases. They also specify the intended uses and potential limitations of the datasets."
   ]
  },
  {
   "attachments": {},
   "cell_type": "markdown",
   "metadata": {},
   "source": [
    "The initial pool of sentiment datasets was gathered through an extensive search using sources such as Google Scholar, GitHub repositories, and the HuggingFace datasets library. This search yielded a total of **345** datasets.\n",
    "\n",
    "To ensure the quality of the datasets, a set of quality assurance criteria was applied to manually filter the initial pool of datasets. The following criteria were used:\n",
    "\n",
    "1. **Strong Annotations**: Datasets containing weak annotations, such as labels based on emoji occurrence or automatically generated through classification by machine learning models, were rejected. This decision was made to minimize the presence of noise in the datasets, ensuring higher quality annotations.\n",
    "2. **Well-Defined Annotation Protocol**: Datasets without sufficient information about the annotation protocol, including whether the annotation was done manually or automatically and the number of annotators involved, were rejected. This step aimed to avoid merging datasets with contradicting annotation instructions, ensuring consistency across the selected datasets.\n",
    "3. **Numerical Ratings**: Datasets with numerical ratings were accepted. Specifically, Likert-type 5-point scales were mapped into three class sentiment labels. Ratings 1 and 2 were mapped to \"negative,\" rating 3 was mapped to \"neutral,\" and ratings 4 and 5 were mapped to \"positive.\" This mapping allowed for consistent sentiment labeling across the datasets.\n",
    "4. **Three Classes Only**: Datasets annotated with binary sentiment labels were rejected. The decision to focus on datasets with three sentiment classes (negative, neutral, and positive) was made based on the unsatisfactory performance of binary sentiment labeling in three-class settings.\n",
    "5. **Monolingual Datasets**: In cases where a dataset contained samples in multiple languages, it was divided into independent datasets for each constituent language. This approach ensured that the corpus includes separate datasets for different languages, allowing for targeted analysis and evaluation.\n",
    "\n",
    "By applying these quality assurance criteria, we were able to filter the initial pool of sentiment datasets and select a final set of **79** datasets that met the specified standards for inclusion in the multilingual corpus."
   ]
  },
  {
   "cell_type": "code",
   "execution_count": null,
   "metadata": {},
   "outputs": [
    {
     "data": {
      "text/plain": [
       "'We cover 79 datasets in 27 languages.'"
      ]
     },
     "execution_count": null,
     "metadata": {},
     "output_type": "execute_result"
    }
   ],
   "source": [
    "#| eval: false\n",
    "f\"We cover {mms_dataset_df.original_dataset.nunique()} datasets in {mms_dataset_df.language.nunique()} languages.\""
   ]
  },
  {
   "cell_type": "code",
   "execution_count": null,
   "metadata": {},
   "outputs": [
    {
     "data": {
      "text/plain": [
       "['negative', 'neutral', 'positive']"
      ]
     },
     "execution_count": null,
     "metadata": {},
     "output_type": "execute_result"
    }
   ],
   "source": [
    "#| eval: false\n",
    "#| hide\n",
    "labels = mms_dataset[\"train\"].features[\"label\"].names\n",
    "labels"
   ]
  },
  {
   "cell_type": "code",
   "execution_count": null,
   "metadata": {},
   "outputs": [],
   "source": [
    "#| eval: false\n",
    "#| hide\n",
    "mms_dataset_df[\"label_name\"] = mms_dataset_df[\"label\"].apply(lambda x: labels[x])"
   ]
  },
  {
   "cell_type": "code",
   "execution_count": null,
   "metadata": {},
   "outputs": [
    {
     "data": {
      "text/plain": [
       "\"The classes that we cover: ['positive' 'neutral' 'negative']\""
      ]
     },
     "execution_count": null,
     "metadata": {},
     "output_type": "execute_result"
    }
   ],
   "source": [
    "#| eval: false\n",
    "f\"The classes that we cover: {mms_dataset_df.label_name.unique()}\""
   ]
  },
  {
   "attachments": {},
   "cell_type": "markdown",
   "metadata": {},
   "source": [
    "## Limitations\n",
    "\n",
    "Despite the fact that our collection is the largest public collection of multilingual sentiment datasets, it still covers only 27 languages. The collection of datasets is highly biased towards the Indo-European family of languages, English in particular. We attribute this bias to the general culture of scientific publishing and its enforcement of English as the primary carrier of scientific discovery. Our work's main potential negative social impact is that the models developed and trained using the provided datasets may still exhibit better performance for the major languages. This could further perpetuate the existing language disparities and inequality in sentiment analysis capabilities across different languages. Addressing this limitation and working towards more equitable representation and performance across languages is crucial to avoid reinforcing language biases and the potential marginalization of underrepresented languages. The ethical implications of such disparities should be thoroughly discussed and considered.\n"
   ]
  },
  {
   "attachments": {},
   "cell_type": "markdown",
   "metadata": {},
   "source": [
    "![Data Quality](images/quality.png)"
   ]
  },
  {
   "attachments": {},
   "cell_type": "markdown",
   "metadata": {},
   "source": [
    "An important limitation of our dataset collection is a significant variance in sample quality across all datasets and all languages. Above figure presents the distribution of self-confidence label-quality score for each data point computed by the **cleanlab** [@northcutt2021confident]. The distribution of quality is skewed in favor of popular languages, with low-resource languages suffering from data quality issues. A related limitation is caused by an unequal distribution of data modalities across languages. For instance, our benchmark clearly shows that all models universally underperform when tested on Portuguese datasets. This is the direct result of the fact that data points for Portuguese almost exclusively represent the domain of social media. As a consequence, some combinations of filtering facets in our dataset collection produce very little data (i.e., asking for social media data in the Germanic genus of Indo-European languages will produce a significantly larger dataset than asking for news data representing Afro-Asiatic languages)."
   ]
  },
  {
   "attachments": {},
   "cell_type": "markdown",
   "metadata": {},
   "source": [
    "\n",
    "Finally, we acknowledge the lack of internal coherence of annotation protocols between datasets and languages. We have enforced strict quality criteria and rejected all datasets published without the annotation protocol, but we were unable, for obvious reasons, to unify annotation guidelines. The annotation of sentiment expressions and the assignment of sentiment labels are heavily subjective and, at the same time, influenced by cultural and linguistic features. Unfortunately, it is possible that semantically similar utterances will be assigned conflicting labels if they come from different datasets or modalities. "
   ]
  },
  {
   "attachments": {},
   "cell_type": "markdown",
   "metadata": {},
   "source": [
    "## Datasets"
   ]
  },
  {
   "attachments": {},
   "cell_type": "markdown",
   "metadata": {},
   "source": []
  }
 ],
 "metadata": {
  "kernelspec": {
   "display_name": "python3",
   "language": "python",
   "name": "python3"
  }
 },
 "nbformat": 4,
 "nbformat_minor": 2
}
