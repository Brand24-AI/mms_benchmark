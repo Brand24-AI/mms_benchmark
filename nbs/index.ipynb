{
 "cells": [
  {
   "attachments": {},
   "cell_type": "markdown",
   "metadata": {},
   "source": [
    "# MMS Dataset and Benchmark \n",
    "\n",
    "> The most extensive open massively multilingual corpus of datasets for training sentiment models. The corpus consists of 79 manually selected from over 350 datasets reported in the scientific literature based on strict quality criteria and covers 27 languages.\n",
    "\n",
    "- title-block-banner: true"
   ]
  },
  {
   "attachments": {},
   "cell_type": "markdown",
   "metadata": {},
   "source": [
    "Despite impressive advancements in multilingual corpora collection and model training, developing large-scale deployments of multilingual models still presents a significant challenge. This is particularly true for language tasks that are culture-dependent. One such example is the area of multilingual sentiment analysis, where affective markers can be subtle and deeply ensconced in culture.\n",
    "\n",
    "This work presents the most extensive open massively multilingual corpus of datasets for training sentiment models. The corpus consists of 79 manually selected datasets from over 350 datasets reported in the scientific literature based on strict quality criteria. The corpus covers 27 languages representing 6 language families. Datasets can be queried using several linguistic and functional features. In addition, we present a multi-faceted sentiment classification benchmark summarizing hundreds of experiments conducted on different base models, training objectives, dataset collections, and fine-tuning strategies. "
   ]
  },
  {
   "attachments": {},
   "cell_type": "markdown",
   "metadata": {},
   "source": [
    "## Dataset\n",
    "\n",
    "[Massively Multilingual Sentiment Datasets](https://huggingface.co/datasets/Brand24/mms)"
   ]
  },
  {
   "attachments": {},
   "cell_type": "markdown",
   "metadata": {},
   "source": [
    "## Analysis and benchmarking \n",
    "\n",
    "[HuggingFace Spaces with Analysis and Benchmark](https://huggingface.co/spaces/Brand24/mms_benchmark)"
   ]
  },
  {
   "attachments": {},
   "cell_type": "markdown",
   "metadata": {},
   "source": [
    "## General statistics about the dataset"
   ]
  },
  {
   "cell_type": "code",
   "execution_count": null,
   "metadata": {},
   "outputs": [],
   "source": [
    "#| hide\n",
    "import pandas as pd\n",
    "import datasets"
   ]
  },
  {
   "attachments": {},
   "cell_type": "markdown",
   "metadata": {},
   "source": [
    "> It may take some time to download the dataset and generate train set inside HuggingFace dataset. Please be patient."
   ]
  },
  {
   "cell_type": "code",
   "execution_count": null,
   "metadata": {},
   "outputs": [],
   "source": [
    "#| eval: false\n",
    "mms_dataset = datasets.load_dataset(\"Brand24/mms\")"
   ]
  },
  {
   "cell_type": "code",
   "execution_count": null,
   "metadata": {},
   "outputs": [],
   "source": [
    "#| eval: false\n",
    "mms_dataset_df = mms_dataset[\"train\"].to_pandas()"
   ]
  },
  {
   "attachments": {},
   "cell_type": "markdown",
   "metadata": {},
   "source": [
    "How many examples do we have?"
   ]
  },
  {
   "cell_type": "code",
   "execution_count": null,
   "metadata": {},
   "outputs": [
    {
     "data": {
      "text/plain": [
       "{'train': 6164762}"
      ]
     },
     "execution_count": null,
     "metadata": {},
     "output_type": "execute_result"
    }
   ],
   "source": [
    "#| eval: false\n",
    "mms_dataset.num_rows"
   ]
  },
  {
   "attachments": {},
   "cell_type": "markdown",
   "metadata": {},
   "source": [
    "## Features"
   ]
  },
  {
   "attachments": {},
   "cell_type": "markdown",
   "metadata": {},
   "source": [
    "We provide not only texts and sentiment labels but we assigned many additional dimensions for datasets and languages, hence it is possible to splice and dice them as you want and need."
   ]
  },
  {
   "cell_type": "code",
   "execution_count": null,
   "metadata": {},
   "outputs": [
    {
     "data": {
      "text/plain": [
       "{'_id': Value(dtype='int32', id=None),\n",
       " 'text': Value(dtype='string', id=None),\n",
       " 'label': ClassLabel(names=['negative', 'neutral', 'positive'], id=None),\n",
       " 'original_dataset': Value(dtype='string', id=None),\n",
       " 'domain': Value(dtype='string', id=None),\n",
       " 'language': Value(dtype='string', id=None),\n",
       " 'Family': Value(dtype='string', id=None),\n",
       " 'Genus': Value(dtype='string', id=None),\n",
       " 'Definite articles': Value(dtype='string', id=None),\n",
       " 'Indefinite articles': Value(dtype='string', id=None),\n",
       " 'Number of cases': Value(dtype='string', id=None),\n",
       " 'Order of subject, object, verb': Value(dtype='string', id=None),\n",
       " 'Negative morphemes': Value(dtype='string', id=None),\n",
       " 'Polar questions': Value(dtype='string', id=None),\n",
       " 'Position of negative word wrt SOV': Value(dtype='string', id=None),\n",
       " 'Prefixing vs suffixing': Value(dtype='string', id=None),\n",
       " 'Coding of nominal plurality': Value(dtype='string', id=None),\n",
       " 'Grammatical genders': Value(dtype='string', id=None),\n",
       " 'cleanlab_self_confidence': Value(dtype='float32', id=None)}"
      ]
     },
     "execution_count": null,
     "metadata": {},
     "output_type": "execute_result"
    }
   ],
   "source": [
    "#| eval: false\n",
    "mms_dataset[\"train\"].features"
   ]
  },
  {
   "attachments": {},
   "cell_type": "markdown",
   "metadata": {},
   "source": [
    "### Example"
   ]
  },
  {
   "cell_type": "code",
   "execution_count": null,
   "metadata": {},
   "outputs": [
    {
     "data": {
      "text/plain": [
       "{'_id': 2001000,\n",
       " 'text': 'I was a tomboy and this has such great memories for me. They fit exactly how I remember, PERFECTLY!!',\n",
       " 'label': 2,\n",
       " 'original_dataset': 'en_amazon',\n",
       " 'domain': 'reviews',\n",
       " 'language': 'en',\n",
       " 'Family': 'Indo-European',\n",
       " 'Genus': 'Germanic',\n",
       " 'Definite articles': 'definite word distinct from demonstrative',\n",
       " 'Indefinite articles': 'indefinite word distinct from one',\n",
       " 'Number of cases': '2',\n",
       " 'Order of subject, object, verb': 'SVO',\n",
       " 'Negative morphemes': 'negative particle',\n",
       " 'Polar questions': 'interrogative word order',\n",
       " 'Position of negative word wrt SOV': 'SNegVO',\n",
       " 'Prefixing vs suffixing': 'strongly suffixing',\n",
       " 'Coding of nominal plurality': 'plural suffix',\n",
       " 'Grammatical genders': 'no grammatical gender',\n",
       " 'cleanlab_self_confidence': 0.9978116750717163}"
      ]
     },
     "execution_count": null,
     "metadata": {},
     "output_type": "execute_result"
    }
   ],
   "source": [
    "#| eval: false\n",
    "mms_dataset[\"train\"][2001000]"
   ]
  },
  {
   "attachments": {},
   "cell_type": "markdown",
   "metadata": {},
   "source": [
    "### Classes"
   ]
  },
  {
   "cell_type": "code",
   "execution_count": null,
   "metadata": {},
   "outputs": [
    {
     "data": {
      "text/plain": [
       "['negative', 'neutral', 'positive']"
      ]
     },
     "execution_count": null,
     "metadata": {},
     "output_type": "execute_result"
    }
   ],
   "source": [
    "#| eval: false\n",
    "labels = mms_dataset[\"train\"].features[\"label\"].names\n",
    "labels"
   ]
  },
  {
   "cell_type": "code",
   "execution_count": null,
   "metadata": {},
   "outputs": [],
   "source": [
    "#| eval: false\n",
    "mms_dataset_df[\"label_name\"] = mms_dataset_df[\"label\"].apply(lambda x: labels[x])"
   ]
  },
  {
   "attachments": {},
   "cell_type": "markdown",
   "metadata": {},
   "source": [
    "### Classes distribution"
   ]
  },
  {
   "cell_type": "code",
   "execution_count": null,
   "metadata": {},
   "outputs": [
    {
     "data": {
      "text/html": [
       "<div>\n",
       "<style scoped>\n",
       "    .dataframe tbody tr th:only-of-type {\n",
       "        vertical-align: middle;\n",
       "    }\n",
       "\n",
       "    .dataframe tbody tr th {\n",
       "        vertical-align: top;\n",
       "    }\n",
       "\n",
       "    .dataframe thead th {\n",
       "        text-align: right;\n",
       "    }\n",
       "</style>\n",
       "<table border=\"1\" class=\"dataframe\">\n",
       "  <thead>\n",
       "    <tr style=\"text-align: right;\">\n",
       "      <th></th>\n",
       "      <th>label_name</th>\n",
       "      <th>percentage</th>\n",
       "    </tr>\n",
       "  </thead>\n",
       "  <tbody>\n",
       "    <tr>\n",
       "      <th>positive</th>\n",
       "      <td>3494478</td>\n",
       "      <td>0.567</td>\n",
       "    </tr>\n",
       "    <tr>\n",
       "      <th>neutral</th>\n",
       "      <td>1341354</td>\n",
       "      <td>0.218</td>\n",
       "    </tr>\n",
       "    <tr>\n",
       "      <th>negative</th>\n",
       "      <td>1328930</td>\n",
       "      <td>0.216</td>\n",
       "    </tr>\n",
       "  </tbody>\n",
       "</table>\n",
       "</div>"
      ],
      "text/plain": [
       "          label_name  percentage\n",
       "positive     3494478       0.567\n",
       "neutral      1341354       0.218\n",
       "negative     1328930       0.216"
      ]
     },
     "execution_count": null,
     "metadata": {},
     "output_type": "execute_result"
    }
   ],
   "source": [
    "#| eval: false\n",
    "labels_stats_df = pd.DataFrame(mms_dataset_df.label_name.value_counts())\n",
    "labels_stats_df[\"percentage\"] = (labels_stats_df[\"label_name\"] / labels_stats_df[\"label_name\"].sum()).round(3)\n",
    "labels_stats_df"
   ]
  },
  {
   "attachments": {},
   "cell_type": "markdown",
   "metadata": {},
   "source": [
    "## Sentiment orientation for each language"
   ]
  },
  {
   "cell_type": "code",
   "execution_count": null,
   "metadata": {},
   "outputs": [
    {
     "data": {
      "text/html": [
       "<div>\n",
       "<style scoped>\n",
       "    .dataframe tbody tr th:only-of-type {\n",
       "        vertical-align: middle;\n",
       "    }\n",
       "\n",
       "    .dataframe tbody tr th {\n",
       "        vertical-align: top;\n",
       "    }\n",
       "\n",
       "    .dataframe thead th {\n",
       "        text-align: right;\n",
       "    }\n",
       "</style>\n",
       "<table border=\"1\" class=\"dataframe\">\n",
       "  <thead>\n",
       "    <tr style=\"text-align: right;\">\n",
       "      <th></th>\n",
       "      <th>language</th>\n",
       "      <th>label_name</th>\n",
       "      <th>count</th>\n",
       "    </tr>\n",
       "  </thead>\n",
       "  <tbody>\n",
       "    <tr>\n",
       "      <th>7</th>\n",
       "      <td>ar</td>\n",
       "      <td>negative</td>\n",
       "      <td>138899</td>\n",
       "    </tr>\n",
       "    <tr>\n",
       "      <th>4</th>\n",
       "      <td>ar</td>\n",
       "      <td>neutral</td>\n",
       "      <td>192774</td>\n",
       "    </tr>\n",
       "    <tr>\n",
       "      <th>1</th>\n",
       "      <td>ar</td>\n",
       "      <td>positive</td>\n",
       "      <td>600402</td>\n",
       "    </tr>\n",
       "    <tr>\n",
       "      <th>53</th>\n",
       "      <td>bg</td>\n",
       "      <td>negative</td>\n",
       "      <td>13930</td>\n",
       "    </tr>\n",
       "    <tr>\n",
       "      <th>41</th>\n",
       "      <td>bg</td>\n",
       "      <td>neutral</td>\n",
       "      <td>28657</td>\n",
       "    </tr>\n",
       "    <tr>\n",
       "      <th>...</th>\n",
       "      <td>...</td>\n",
       "      <td>...</td>\n",
       "      <td>...</td>\n",
       "    </tr>\n",
       "    <tr>\n",
       "      <th>62</th>\n",
       "      <td>ur</td>\n",
       "      <td>neutral</td>\n",
       "      <td>8585</td>\n",
       "    </tr>\n",
       "    <tr>\n",
       "      <th>67</th>\n",
       "      <td>ur</td>\n",
       "      <td>positive</td>\n",
       "      <td>5836</td>\n",
       "    </tr>\n",
       "    <tr>\n",
       "      <th>9</th>\n",
       "      <td>zh</td>\n",
       "      <td>negative</td>\n",
       "      <td>117967</td>\n",
       "    </tr>\n",
       "    <tr>\n",
       "      <th>21</th>\n",
       "      <td>zh</td>\n",
       "      <td>neutral</td>\n",
       "      <td>69016</td>\n",
       "    </tr>\n",
       "    <tr>\n",
       "      <th>6</th>\n",
       "      <td>zh</td>\n",
       "      <td>positive</td>\n",
       "      <td>144719</td>\n",
       "    </tr>\n",
       "  </tbody>\n",
       "</table>\n",
       "<p>81 rows × 3 columns</p>\n",
       "</div>"
      ],
      "text/plain": [
       "   language label_name   count\n",
       "7        ar   negative  138899\n",
       "4        ar    neutral  192774\n",
       "1        ar   positive  600402\n",
       "53       bg   negative   13930\n",
       "41       bg    neutral   28657\n",
       "..      ...        ...     ...\n",
       "62       ur    neutral    8585\n",
       "67       ur   positive    5836\n",
       "9        zh   negative  117967\n",
       "21       zh    neutral   69016\n",
       "6        zh   positive  144719\n",
       "\n",
       "[81 rows x 3 columns]"
      ]
     },
     "execution_count": null,
     "metadata": {},
     "output_type": "execute_result"
    }
   ],
   "source": [
    "#| eval: false\n",
    "cols = ['language', 'label_name']\n",
    "mms_dataset_df[cols].value_counts().to_frame().reset_index().rename(columns={0: 'count'}).sort_values(by=cols, ascending=True)"
   ]
  },
  {
   "attachments": {},
   "cell_type": "markdown",
   "metadata": {},
   "source": [
    "## Per language"
   ]
  },
  {
   "cell_type": "code",
   "execution_count": null,
   "metadata": {},
   "outputs": [
    {
     "data": {
      "text/html": [
       "<div>\n",
       "<style scoped>\n",
       "    .dataframe tbody tr th:only-of-type {\n",
       "        vertical-align: middle;\n",
       "    }\n",
       "\n",
       "    .dataframe tbody tr th {\n",
       "        vertical-align: top;\n",
       "    }\n",
       "\n",
       "    .dataframe thead th {\n",
       "        text-align: right;\n",
       "    }\n",
       "</style>\n",
       "<table border=\"1\" class=\"dataframe\">\n",
       "  <thead>\n",
       "    <tr style=\"text-align: right;\">\n",
       "      <th></th>\n",
       "      <th>language</th>\n",
       "      <th>count</th>\n",
       "    </tr>\n",
       "  </thead>\n",
       "  <tbody>\n",
       "    <tr>\n",
       "      <th>1</th>\n",
       "      <td>ar</td>\n",
       "      <td>932075</td>\n",
       "    </tr>\n",
       "    <tr>\n",
       "      <th>15</th>\n",
       "      <td>bg</td>\n",
       "      <td>62150</td>\n",
       "    </tr>\n",
       "    <tr>\n",
       "      <th>20</th>\n",
       "      <td>bs</td>\n",
       "      <td>36183</td>\n",
       "    </tr>\n",
       "    <tr>\n",
       "      <th>8</th>\n",
       "      <td>cs</td>\n",
       "      <td>196287</td>\n",
       "    </tr>\n",
       "    <tr>\n",
       "      <th>4</th>\n",
       "      <td>de</td>\n",
       "      <td>315887</td>\n",
       "    </tr>\n",
       "    <tr>\n",
       "      <th>0</th>\n",
       "      <td>en</td>\n",
       "      <td>2330486</td>\n",
       "    </tr>\n",
       "    <tr>\n",
       "      <th>2</th>\n",
       "      <td>es</td>\n",
       "      <td>418712</td>\n",
       "    </tr>\n",
       "    <tr>\n",
       "      <th>23</th>\n",
       "      <td>fa</td>\n",
       "      <td>13525</td>\n",
       "    </tr>\n",
       "    <tr>\n",
       "      <th>6</th>\n",
       "      <td>fr</td>\n",
       "      <td>210631</td>\n",
       "    </tr>\n",
       "    <tr>\n",
       "      <th>25</th>\n",
       "      <td>he</td>\n",
       "      <td>8619</td>\n",
       "    </tr>\n",
       "    <tr>\n",
       "      <th>22</th>\n",
       "      <td>hi</td>\n",
       "      <td>16999</td>\n",
       "    </tr>\n",
       "    <tr>\n",
       "      <th>12</th>\n",
       "      <td>hr</td>\n",
       "      <td>77594</td>\n",
       "    </tr>\n",
       "    <tr>\n",
       "      <th>16</th>\n",
       "      <td>hu</td>\n",
       "      <td>56682</td>\n",
       "    </tr>\n",
       "    <tr>\n",
       "      <th>24</th>\n",
       "      <td>it</td>\n",
       "      <td>12065</td>\n",
       "    </tr>\n",
       "    <tr>\n",
       "      <th>7</th>\n",
       "      <td>ja</td>\n",
       "      <td>209780</td>\n",
       "    </tr>\n",
       "    <tr>\n",
       "      <th>26</th>\n",
       "      <td>lv</td>\n",
       "      <td>5790</td>\n",
       "    </tr>\n",
       "    <tr>\n",
       "      <th>5</th>\n",
       "      <td>pl</td>\n",
       "      <td>236688</td>\n",
       "    </tr>\n",
       "    <tr>\n",
       "      <th>9</th>\n",
       "      <td>pt</td>\n",
       "      <td>157834</td>\n",
       "    </tr>\n",
       "    <tr>\n",
       "      <th>11</th>\n",
       "      <td>ru</td>\n",
       "      <td>110930</td>\n",
       "    </tr>\n",
       "    <tr>\n",
       "      <th>17</th>\n",
       "      <td>sk</td>\n",
       "      <td>56623</td>\n",
       "    </tr>\n",
       "    <tr>\n",
       "      <th>10</th>\n",
       "      <td>sl</td>\n",
       "      <td>113543</td>\n",
       "    </tr>\n",
       "    <tr>\n",
       "      <th>18</th>\n",
       "      <td>sq</td>\n",
       "      <td>44284</td>\n",
       "    </tr>\n",
       "    <tr>\n",
       "      <th>13</th>\n",
       "      <td>sr</td>\n",
       "      <td>76368</td>\n",
       "    </tr>\n",
       "    <tr>\n",
       "      <th>19</th>\n",
       "      <td>sv</td>\n",
       "      <td>41346</td>\n",
       "    </tr>\n",
       "    <tr>\n",
       "      <th>14</th>\n",
       "      <td>th</td>\n",
       "      <td>72319</td>\n",
       "    </tr>\n",
       "    <tr>\n",
       "      <th>21</th>\n",
       "      <td>ur</td>\n",
       "      <td>19660</td>\n",
       "    </tr>\n",
       "    <tr>\n",
       "      <th>3</th>\n",
       "      <td>zh</td>\n",
       "      <td>331702</td>\n",
       "    </tr>\n",
       "  </tbody>\n",
       "</table>\n",
       "</div>"
      ],
      "text/plain": [
       "   language    count\n",
       "1        ar   932075\n",
       "15       bg    62150\n",
       "20       bs    36183\n",
       "8        cs   196287\n",
       "4        de   315887\n",
       "0        en  2330486\n",
       "2        es   418712\n",
       "23       fa    13525\n",
       "6        fr   210631\n",
       "25       he     8619\n",
       "22       hi    16999\n",
       "12       hr    77594\n",
       "16       hu    56682\n",
       "24       it    12065\n",
       "7        ja   209780\n",
       "26       lv     5790\n",
       "5        pl   236688\n",
       "9        pt   157834\n",
       "11       ru   110930\n",
       "17       sk    56623\n",
       "10       sl   113543\n",
       "18       sq    44284\n",
       "13       sr    76368\n",
       "19       sv    41346\n",
       "14       th    72319\n",
       "21       ur    19660\n",
       "3        zh   331702"
      ]
     },
     "execution_count": null,
     "metadata": {},
     "output_type": "execute_result"
    }
   ],
   "source": [
    "#| eval: false\n",
    "cols = ['language']\n",
    "mms_dataset_df[cols].value_counts().to_frame().reset_index().rename(columns={0: 'count'}).sort_values(by=cols, ascending=True)"
   ]
  },
  {
   "attachments": {},
   "cell_type": "markdown",
   "metadata": {},
   "source": [
    "## Example of filtering datasets"
   ]
  },
  {
   "attachments": {},
   "cell_type": "markdown",
   "metadata": {},
   "source": [
    "### Choose only Polish"
   ]
  },
  {
   "cell_type": "code",
   "execution_count": null,
   "metadata": {},
   "outputs": [
    {
     "data": {
      "application/vnd.jupyter.widget-view+json": {
       "model_id": "741cbcef5c7c406a8e3e49ca9bf2a10f",
       "version_major": 2,
       "version_minor": 0
      },
      "text/plain": [
       "Filter:   0%|          | 0/6164762 [00:00<?, ? examples/s]"
      ]
     },
     "metadata": {},
     "output_type": "display_data"
    }
   ],
   "source": [
    "#| eval: false\n",
    "pl = mms_dataset.filter(lambda row: row['language'] == 'pl')"
   ]
  },
  {
   "cell_type": "code",
   "execution_count": null,
   "metadata": {},
   "outputs": [
    {
     "data": {
      "text/html": [
       "<div>\n",
       "<style scoped>\n",
       "    .dataframe tbody tr th:only-of-type {\n",
       "        vertical-align: middle;\n",
       "    }\n",
       "\n",
       "    .dataframe tbody tr th {\n",
       "        vertical-align: top;\n",
       "    }\n",
       "\n",
       "    .dataframe thead th {\n",
       "        text-align: right;\n",
       "    }\n",
       "</style>\n",
       "<table border=\"1\" class=\"dataframe\">\n",
       "  <thead>\n",
       "    <tr style=\"text-align: right;\">\n",
       "      <th></th>\n",
       "      <th>_id</th>\n",
       "      <th>text</th>\n",
       "      <th>label</th>\n",
       "      <th>original_dataset</th>\n",
       "      <th>domain</th>\n",
       "      <th>language</th>\n",
       "      <th>Family</th>\n",
       "      <th>Genus</th>\n",
       "      <th>Definite articles</th>\n",
       "      <th>Indefinite articles</th>\n",
       "      <th>Number of cases</th>\n",
       "      <th>Order of subject, object, verb</th>\n",
       "      <th>Negative morphemes</th>\n",
       "      <th>Polar questions</th>\n",
       "      <th>Position of negative word wrt SOV</th>\n",
       "      <th>Prefixing vs suffixing</th>\n",
       "      <th>Coding of nominal plurality</th>\n",
       "      <th>Grammatical genders</th>\n",
       "      <th>cleanlab_self_confidence</th>\n",
       "    </tr>\n",
       "  </thead>\n",
       "  <tbody>\n",
       "    <tr>\n",
       "      <th>215921</th>\n",
       "      <td>5119386</td>\n",
       "      <td>Typujcie jaki dziś będzie wynik St.Pats - Legi...</td>\n",
       "      <td>2</td>\n",
       "      <td>pl_twitter_sentiment</td>\n",
       "      <td>social_media</td>\n",
       "      <td>pl</td>\n",
       "      <td>Indo-European</td>\n",
       "      <td>Slavic</td>\n",
       "      <td>no article</td>\n",
       "      <td>no article</td>\n",
       "      <td>6-7</td>\n",
       "      <td>SVO</td>\n",
       "      <td>negative particle</td>\n",
       "      <td>question particle</td>\n",
       "      <td>SNegVO</td>\n",
       "      <td>strongly suffixing</td>\n",
       "      <td>plural suffix</td>\n",
       "      <td>masculine, feminine, neuter</td>\n",
       "      <td>0.589098</td>\n",
       "    </tr>\n",
       "    <tr>\n",
       "      <th>86525</th>\n",
       "      <td>4989990</td>\n",
       "      <td>@KaczmarSF Przyjemne ciarki mam, gdy patrzę na...</td>\n",
       "      <td>2</td>\n",
       "      <td>pl_twitter_sentiment</td>\n",
       "      <td>social_media</td>\n",
       "      <td>pl</td>\n",
       "      <td>Indo-European</td>\n",
       "      <td>Slavic</td>\n",
       "      <td>no article</td>\n",
       "      <td>no article</td>\n",
       "      <td>6-7</td>\n",
       "      <td>SVO</td>\n",
       "      <td>negative particle</td>\n",
       "      <td>question particle</td>\n",
       "      <td>SNegVO</td>\n",
       "      <td>strongly suffixing</td>\n",
       "      <td>plural suffix</td>\n",
       "      <td>masculine, feminine, neuter</td>\n",
       "      <td>0.950756</td>\n",
       "    </tr>\n",
       "    <tr>\n",
       "      <th>66031</th>\n",
       "      <td>4969496</td>\n",
       "      <td>szkoda bylo czasu i kasy .</td>\n",
       "      <td>0</td>\n",
       "      <td>pl_polemo</td>\n",
       "      <td>reviews</td>\n",
       "      <td>pl</td>\n",
       "      <td>Indo-European</td>\n",
       "      <td>Slavic</td>\n",
       "      <td>no article</td>\n",
       "      <td>no article</td>\n",
       "      <td>6-7</td>\n",
       "      <td>SVO</td>\n",
       "      <td>negative particle</td>\n",
       "      <td>question particle</td>\n",
       "      <td>SNegVO</td>\n",
       "      <td>strongly suffixing</td>\n",
       "      <td>plural suffix</td>\n",
       "      <td>masculine, feminine, neuter</td>\n",
       "      <td>0.940540</td>\n",
       "    </tr>\n",
       "    <tr>\n",
       "      <th>137768</th>\n",
       "      <td>5041233</td>\n",
       "      <td>@shinyvalentine mam ja w dupie lecz bylo to kr...</td>\n",
       "      <td>0</td>\n",
       "      <td>pl_twitter_sentiment</td>\n",
       "      <td>social_media</td>\n",
       "      <td>pl</td>\n",
       "      <td>Indo-European</td>\n",
       "      <td>Slavic</td>\n",
       "      <td>no article</td>\n",
       "      <td>no article</td>\n",
       "      <td>6-7</td>\n",
       "      <td>SVO</td>\n",
       "      <td>negative particle</td>\n",
       "      <td>question particle</td>\n",
       "      <td>SNegVO</td>\n",
       "      <td>strongly suffixing</td>\n",
       "      <td>plural suffix</td>\n",
       "      <td>masculine, feminine, neuter</td>\n",
       "      <td>0.220028</td>\n",
       "    </tr>\n",
       "    <tr>\n",
       "      <th>118766</th>\n",
       "      <td>5022231</td>\n",
       "      <td>@itiNieWracaj pokazują to gdzieś?</td>\n",
       "      <td>2</td>\n",
       "      <td>pl_twitter_sentiment</td>\n",
       "      <td>social_media</td>\n",
       "      <td>pl</td>\n",
       "      <td>Indo-European</td>\n",
       "      <td>Slavic</td>\n",
       "      <td>no article</td>\n",
       "      <td>no article</td>\n",
       "      <td>6-7</td>\n",
       "      <td>SVO</td>\n",
       "      <td>negative particle</td>\n",
       "      <td>question particle</td>\n",
       "      <td>SNegVO</td>\n",
       "      <td>strongly suffixing</td>\n",
       "      <td>plural suffix</td>\n",
       "      <td>masculine, feminine, neuter</td>\n",
       "      <td>0.139179</td>\n",
       "    </tr>\n",
       "  </tbody>\n",
       "</table>\n",
       "</div>"
      ],
      "text/plain": [
       "            _id                                               text  label  \\\n",
       "215921  5119386  Typujcie jaki dziś będzie wynik St.Pats - Legi...      2   \n",
       "86525   4989990  @KaczmarSF Przyjemne ciarki mam, gdy patrzę na...      2   \n",
       "66031   4969496                         szkoda bylo czasu i kasy .      0   \n",
       "137768  5041233  @shinyvalentine mam ja w dupie lecz bylo to kr...      0   \n",
       "118766  5022231                  @itiNieWracaj pokazują to gdzieś?      2   \n",
       "\n",
       "            original_dataset        domain language         Family   Genus  \\\n",
       "215921  pl_twitter_sentiment  social_media       pl  Indo-European  Slavic   \n",
       "86525   pl_twitter_sentiment  social_media       pl  Indo-European  Slavic   \n",
       "66031              pl_polemo       reviews       pl  Indo-European  Slavic   \n",
       "137768  pl_twitter_sentiment  social_media       pl  Indo-European  Slavic   \n",
       "118766  pl_twitter_sentiment  social_media       pl  Indo-European  Slavic   \n",
       "\n",
       "       Definite articles Indefinite articles Number of cases  \\\n",
       "215921        no article          no article             6-7   \n",
       "86525         no article          no article             6-7   \n",
       "66031         no article          no article             6-7   \n",
       "137768        no article          no article             6-7   \n",
       "118766        no article          no article             6-7   \n",
       "\n",
       "       Order of subject, object, verb Negative morphemes    Polar questions  \\\n",
       "215921                            SVO  negative particle  question particle   \n",
       "86525                             SVO  negative particle  question particle   \n",
       "66031                             SVO  negative particle  question particle   \n",
       "137768                            SVO  negative particle  question particle   \n",
       "118766                            SVO  negative particle  question particle   \n",
       "\n",
       "       Position of negative word wrt SOV Prefixing vs suffixing  \\\n",
       "215921                            SNegVO     strongly suffixing   \n",
       "86525                             SNegVO     strongly suffixing   \n",
       "66031                             SNegVO     strongly suffixing   \n",
       "137768                            SNegVO     strongly suffixing   \n",
       "118766                            SNegVO     strongly suffixing   \n",
       "\n",
       "       Coding of nominal plurality          Grammatical genders  \\\n",
       "215921               plural suffix  masculine, feminine, neuter   \n",
       "86525                plural suffix  masculine, feminine, neuter   \n",
       "66031                plural suffix  masculine, feminine, neuter   \n",
       "137768               plural suffix  masculine, feminine, neuter   \n",
       "118766               plural suffix  masculine, feminine, neuter   \n",
       "\n",
       "        cleanlab_self_confidence  \n",
       "215921                  0.589098  \n",
       "86525                   0.950756  \n",
       "66031                   0.940540  \n",
       "137768                  0.220028  \n",
       "118766                  0.139179  "
      ]
     },
     "execution_count": null,
     "metadata": {},
     "output_type": "execute_result"
    }
   ],
   "source": [
    "#| eval: false\n",
    "pl[\"train\"].to_pandas().sample(5)"
   ]
  },
  {
   "attachments": {},
   "cell_type": "markdown",
   "metadata": {},
   "source": [
    "## Use cases"
   ]
  },
  {
   "attachments": {},
   "cell_type": "markdown",
   "metadata": {},
   "source": [
    "### Case 1 "
   ]
  },
  {
   "attachments": {},
   "cell_type": "markdown",
   "metadata": {},
   "source": [
    "Thus, when training a sentiment classifier using our dataset, one may download different facets of the collection. For instance, one can download all datasets in `Slavic` languages in which polar questions are formed using the interrogative word order or download all datasets from the `Afro-Asiatic` language family with no morphological case-making."
   ]
  },
  {
   "cell_type": "code",
   "execution_count": null,
   "metadata": {},
   "outputs": [
    {
     "data": {
      "application/vnd.jupyter.widget-view+json": {
       "model_id": "d507f946e8a742509c483cf43a38ad3b",
       "version_major": 2,
       "version_minor": 0
      },
      "text/plain": [
       "Filter:   0%|          | 0/6164762 [00:00<?, ? examples/s]"
      ]
     },
     "metadata": {},
     "output_type": "display_data"
    }
   ],
   "source": [
    "#| eval: false\n",
    "slavic = mms_dataset.filter(lambda row: row[\"Genus\"] == \"Slavic\" and row[\"Polar questions\"] == \"interrogative word order\")"
   ]
  },
  {
   "cell_type": "code",
   "execution_count": null,
   "metadata": {},
   "outputs": [
    {
     "data": {
      "text/plain": [
       "DatasetDict({\n",
       "    train: Dataset({\n",
       "        features: ['_id', 'text', 'label', 'original_dataset', 'domain', 'language', 'Family', 'Genus', 'Definite articles', 'Indefinite articles', 'Number of cases', 'Order of subject, object, verb', 'Negative morphemes', 'Polar questions', 'Position of negative word wrt SOV', 'Prefixing vs suffixing', 'Coding of nominal plurality', 'Grammatical genders', 'cleanlab_self_confidence'],\n",
       "        num_rows: 252910\n",
       "    })\n",
       "})"
      ]
     },
     "execution_count": null,
     "metadata": {},
     "output_type": "execute_result"
    }
   ],
   "source": [
    "#| eval: false\n",
    "slavic"
   ]
  },
  {
   "attachments": {},
   "cell_type": "markdown",
   "metadata": {},
   "source": [
    "### Case 2"
   ]
  },
  {
   "cell_type": "code",
   "execution_count": null,
   "metadata": {},
   "outputs": [
    {
     "data": {
      "application/vnd.jupyter.widget-view+json": {
       "model_id": "358b0ccc9c7a4c5da174c2c3aa55e778",
       "version_major": 2,
       "version_minor": 0
      },
      "text/plain": [
       "Filter:   0%|          | 0/6164762 [00:00<?, ? examples/s]"
      ]
     },
     "metadata": {},
     "output_type": "display_data"
    }
   ],
   "source": [
    "#| eval: false\n",
    "afro_asiatic = mms_dataset.filter(lambda row: row[\"Family\"] == \"Afro-Asiatic\" and row[\"Number of cases\"] == \"no morphological case-making\")"
   ]
  },
  {
   "cell_type": "code",
   "execution_count": null,
   "metadata": {},
   "outputs": [
    {
     "data": {
      "text/plain": [
       "DatasetDict({\n",
       "    train: Dataset({\n",
       "        features: ['_id', 'text', 'label', 'original_dataset', 'domain', 'language', 'Family', 'Genus', 'Definite articles', 'Indefinite articles', 'Number of cases', 'Order of subject, object, verb', 'Negative morphemes', 'Polar questions', 'Position of negative word wrt SOV', 'Prefixing vs suffixing', 'Coding of nominal plurality', 'Grammatical genders', 'cleanlab_self_confidence'],\n",
       "        num_rows: 8619\n",
       "    })\n",
       "})"
      ]
     },
     "execution_count": null,
     "metadata": {},
     "output_type": "execute_result"
    }
   ],
   "source": [
    "#| eval: false\n",
    "afro_asiatic"
   ]
  },
  {
   "attachments": {},
   "cell_type": "markdown",
   "metadata": {},
   "source": [
    "## Dataset Curators\n",
    "\n",
    "The corpus was put together by\n",
    "\n",
    "- [@laugustyniak](https://www.linkedin.com/in/lukaszaugustyniak/)\n",
    "- [@swozniak](https://www.linkedin.com/in/wscode/)\n",
    "- [@mgruza](https://www.linkedin.com/in/marcin-gruza-276b2512b/)\n",
    "- [@pgramacki](https://www.linkedin.com/in/piotrgramacki/)\n",
    "- [@krajda](https://www.linkedin.com/in/krzysztof-rajda/)\n",
    "- [@mmorzy](https://www.linkedin.com/in/mikolajmorzy/)\n",
    "- [@tkajdanowicz](https://www.linkedin.com/in/kajdanowicz/)"
   ]
  },
  {
   "attachments": {},
   "cell_type": "markdown",
   "metadata": {},
   "source": [
    "## Citation\n",
    "\n",
    "```bibtex\n",
    "@misc{augustyniak2023massively,\n",
    "      title={Massively Multilingual Corpus of Sentiment Datasets and Multi-faceted Sentiment Classification Benchmark}, \n",
    "      author={Łukasz Augustyniak and Szymon Woźniak and Marcin Gruza and Piotr Gramacki and Krzysztof Rajda and Mikołaj Morzy and Tomasz Kajdanowicz},\n",
    "      year={2023},\n",
    "      eprint={2306.07902},\n",
    "      archivePrefix={arXiv},\n",
    "      primaryClass={cs.CL}\n",
    "}\n",
    "```"
   ]
  },
  {
   "attachments": {},
   "cell_type": "markdown",
   "metadata": {},
   "source": [
    "## Licensing Information\n",
    "\n",
    "These data are released under this licensing scheme.\n",
    "We do not own any text from which these data and datasets have been extracted.\n",
    "\n",
    "We license the actual packaging of these data under the Attribution-NonCommercial 4.0 International (CC BY-NC 4.0) https://creativecommons.org/licenses/by-nc/4.0/\n",
    "\n",
    "This work is published from Poland.\n",
    "\n",
    "Should you consider that our data contains material that is owned by you and should, therefore not be reproduced here, please:\n",
    "* Clearly identify yourself with detailed contact data such as an address, telephone number, or email address at which you can be contacted.\n",
    "* Clearly identify the copyrighted work claimed to be infringed.\n",
    "* Clearly identify the material claimed to be infringing and the information reasonably sufficient to allow us to locate the material.\n",
    "\n",
    "We will comply with legitimate requests by removing the affected sources from the next release of the corpus.\n"
   ]
  },
  {
   "attachments": {},
   "cell_type": "markdown",
   "metadata": {},
   "source": []
  }
 ],
 "metadata": {
  "kernelspec": {
   "display_name": "python3",
   "language": "python",
   "name": "python3"
  }
 },
 "nbformat": 4,
 "nbformat_minor": 2
}
